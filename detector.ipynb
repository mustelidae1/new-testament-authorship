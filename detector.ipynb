{
 "cells": [
  {
   "cell_type": "code",
   "execution_count": 1,
   "metadata": {},
   "outputs": [],
   "source": [
    "from cltk.data.fetch import FetchCorpus"
   ]
  },
  {
   "cell_type": "code",
   "execution_count": null,
   "metadata": {},
   "outputs": [],
   "source": [
    "corpus_downloader = FetchCorpus(language=\"grc\")\n",
    "corpus_downloader.import_corpus(\"grc_text_tesserae\")\n",
    "cltk_nlp = NLP(language='grc')"
   ]
  },
  {
   "cell_type": "code",
   "execution_count": 11,
   "metadata": {},
   "outputs": [
    {
     "data": {
      "application/vnd.jupyter.widget-view+json": {
       "model_id": "b76b89fb58a0400987c61ec6a159842b",
       "version_major": 2,
       "version_minor": 0
      },
      "text/plain": [
       "  0%|          | 0/821 [00:00<?, ?it/s]"
      ]
     },
     "metadata": {},
     "output_type": "display_data"
    },
    {
     "name": "stderr",
     "output_type": "stream",
     "text": [
      "/home/zach/anaconda3/envs/python38/lib/python3.8/site-packages/torch/cuda/__init__.py:52: UserWarning: CUDA initialization: Found no NVIDIA driver on your system. Please check that you have an NVIDIA GPU and installed a driver from http://www.nvidia.com/Download/index.aspx (Triggered internally at  /pytorch/c10/cuda/CUDAFunctions.cpp:100.)\n",
      "  return torch._C._cuda_getDeviceCount() > 0\n"
     ]
    }
   ],
   "source": [
    "import os\n",
    "import re\n",
    "from cltk import NLP\n",
    "from tqdm.notebook import tqdm\n",
    "\n",
    "DATA_DIR = '/home/zach/cltk_data/grc/text/grc_text_tesserae/texts/'\n",
    "files = os.listdir(DATA_DIR)\n",
    "\n",
    "data = {}\n",
    "\n",
    "for file in tqdm(files):\n",
    "    filepath = '{}/{}'.format(DATA_DIR, file)\n",
    "    text = re.sub('<[^<]+>', \"\", open(filepath, encoding=\"utf8\").read())\n",
    "    text = re.sub('\\n', \"\", text)\n",
    "    data[file] = text\n",
    "\n",
    "cltk_doc = cltk_nlp.analyze(text=text[1])"
   ]
  },
  {
   "cell_type": "code",
   "execution_count": null,
   "metadata": {},
   "outputs": [],
   "source": [
    "from pystlm.stlm import STLM\n",
    "from pystlm.suffixtree import SuffixTree\n",
    "from pystlm.sequence import Sequence\n",
    "\n",
    "trie = SuffixTree()\n",
    "\n",
    "for w in cltk_doc.tokens:\n",
    "    trie.add(w)\n",
    "\n",
    "trie.update_all_counts()\n",
    "stlm = STLM(trie)\n",
    "seq = Sequence()\n",
    "for t in cltk_doc.tokens[:1]: \n",
    "    seq.push_back(t)\n",
    "\n",
    "stlm.prob(seq)"
   ]
  }
 ],
 "metadata": {
  "kernelspec": {
   "display_name": "Python 3",
   "language": "python",
   "name": "python3"
  },
  "language_info": {
   "codemirror_mode": {
    "name": "ipython",
    "version": 3
   },
   "file_extension": ".py",
   "mimetype": "text/x-python",
   "name": "python",
   "nbconvert_exporter": "python",
   "pygments_lexer": "ipython3",
   "version": "3.8.5"
  }
 },
 "nbformat": 4,
 "nbformat_minor": 2
}
