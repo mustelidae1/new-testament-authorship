{
 "cells": [
  {
   "cell_type": "code",
   "execution_count": null,
   "metadata": {},
   "outputs": [],
   "source": [
    "from cltk import NLP\n",
    "from cltk.data.fetch import FetchCorpus"
   ]
  },
  {
   "cell_type": "code",
   "execution_count": null,
   "metadata": {},
   "outputs": [],
   "source": [
    "corpus_downloader = FetchCorpus(language=\"grc\")\n",
    "corpus_downloader.import_corpus(\"grc_text_tesserae\")\n",
    "cltk_nlp = NLP(language='grc')"
   ]
  },
  {
   "cell_type": "code",
   "execution_count": null,
   "metadata": {},
   "outputs": [],
   "source": [
    "import os\n",
    "import re\n",
    "from tqdm.notebook import tqdm\n",
    "from collections import defaultdict as dd"
   ]
  },
  {
   "cell_type": "markdown",
   "metadata": {},
   "source": [
    "### Load Corpa"
   ]
  },
  {
   "cell_type": "code",
   "execution_count": null,
   "metadata": {},
   "outputs": [],
   "source": [
    "DATA_DIR = '/home/zach/cltk_data/grc/text/grc_text_tesserae/texts/'\n",
    "files = os.listdir(DATA_DIR)\n",
    "\n",
    "docs = dd(list)\n",
    "keys = []\n",
    "\n",
    "for file in tqdm(files):\n",
    "    key = os.path.splitext(file)[0]\n",
    "    keys.append(key)\n",
    "    filepath = '{}/{}'.format(DATA_DIR, file)\n",
    "    text = re.sub('<[^<]+>', \"\", open(filepath, encoding=\"utf8\").read())\n",
    "    text = re.sub('\\n', \"\", text)\n",
    "    docs[key] = text"
   ]
  },
  {
   "cell_type": "markdown",
   "metadata": {},
   "source": [
    "### Annotate Corpa"
   ]
  },
  {
   "cell_type": "code",
   "execution_count": null,
   "metadata": {},
   "outputs": [],
   "source": [
    "data = dd(list)\n",
    "for key in tqdm(keys[:1]):\n",
    "    data[key] = cltk_nlp.analyze(text=docs[key])"
   ]
  },
  {
   "cell_type": "code",
   "execution_count": null,
   "metadata": {},
   "outputs": [],
   "source": [
    "import os import re from cltk import NLP from tqdm.notebook import tqdm\n",
    "\n",
    "DATA_DIR = '/home/zach/cltk_data/grc/text/grc_text_tesserae/texts/' files = os.listdir(DATA_DIR)\n",
    "\n",
    "data = {}\n",
    "\n",
    "for file in tqdm(files):\n",
    "    filepath = '{}/{}'.format(DATA_DIR, file)\n",
    "    text = re.sub('<[^<]+>', \"\", open(filepath, encoding=\"utf8\").read())\n",
    "    text = re.sub('\\n', \"\", text)\n",
    "    data[file] = text\n",
    "\n",
    "cltk_doc = cltk_nlp.analyze(text=text[1])"
   ]
  },
  {
   "cell_type": "code",
   "execution_count": null,
   "metadata": {},
   "outputs": [],
   "source": [
    "from pystlm.stlm import STLM\n",
    "from pystlm.suffixtree import SuffixTree\n",
    "from pystlm.sequence import Sequence\n",
    "\n",
    "trie = SuffixTree()\n",
    "\n",
    "doc = data[keys[0]]\n",
    "\n",
    "for w in doc.tokens:\n",
    "for w in cltk_doc.tokens:\n",
    "    trie.add(w)\n",
    "\n",
    "trie.update_all_counts()\n",
    "stlm = STLM(trie)\n",
    "seq = Sequence()\n",
    "for t in doc.tokens[:3]: \n",
    "for t in cltk_doc.tokens[:1]: \n",
    "    seq.push_back(t)\n",
    "\n",
    "stlm.prob(seq)"
   ]
  }
 ],
 "metadata": {
  "kernelspec": {
   "display_name": "Python 3",
   "language": "python",
   "name": "python3"
  },
  "language_info": {
   "codemirror_mode": {
    "name": "ipython",
    "version": 3
   },
   "file_extension": ".py",
   "mimetype": "text/x-python",
   "name": "python",
   "nbconvert_exporter": "python",
   "pygments_lexer": "ipython3",
   "version": "3.7.9"
  }
 },
 "nbformat": 4,
 "nbformat_minor": 2
}
