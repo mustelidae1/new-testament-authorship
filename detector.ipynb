{
 "cells": [
  {
   "cell_type": "code",
   "execution_count": 1,
   "metadata": {},
   "outputs": [],
   "source": [
    "from cltk import NLP\n",
    "from cltk.data.fetch import FetchCorpus"
   ]
  },
  {
   "cell_type": "markdown",
   "metadata": {},
   "source": [
    "### Download Tesserae Corpus"
   ]
  },
  {
   "cell_type": "code",
   "execution_count": 2,
   "metadata": {},
   "outputs": [
    {
     "name": "stdout",
     "output_type": "stream",
     "text": [
      "‎𐤀 CLTK version '1.0.6'.\n",
      "Pipeline for language 'Ancient Greek' (ISO: 'grc'): `GreekNormalizeProcess`, `GreekStanzaProcess`, `GreekEmbeddingsProcess`, `StopsProcess`, `GreekNERProcess`.\n"
     ]
    }
   ],
   "source": [
    "corpus_downloader = FetchCorpus(language=\"grc\")\n",
    "corpus_downloader.import_corpus(\"grc_text_tesserae\")\n",
    "cltk_nlp = NLP(language='grc')"
   ]
  },
  {
   "cell_type": "markdown",
   "metadata": {},
   "source": [
    "### Paul's Epistles"
   ]
  },
  {
   "cell_type": "code",
   "execution_count": 3,
   "metadata": {},
   "outputs": [],
   "source": [
    "paul = [\n",
    "    # undisputed\n",
    "    'new_testament.i_thessalonians',\n",
    "    'new_testament.galatians',\n",
    "    'new_testament.i_corinthians',\n",
    "    'new_testament.philippians',\n",
    "    'new_testament.philemon',\n",
    "    'new_testament.ii_corinthians',\n",
    "    'new_testament.romans',\n",
    "    \n",
    "    # undecided\n",
    "    'new_testament.colossians',\n",
    "    'new_testament.ii_thessalonians',\n",
    "    \n",
    "    # disputed\n",
    "    'new_testament.ephesians',\n",
    "    'new_testament.i_timothy',\n",
    "    'new_testament.ii_timothy',\n",
    "    'new_testament.titus',\n",
    "    \n",
    "    # refuted\n",
    "    'new_testament.hebrews',\n",
    "]"
   ]
  },
  {
   "cell_type": "markdown",
   "metadata": {},
   "source": [
    "### Get Corpus Directory From Local .env File"
   ]
  },
  {
   "cell_type": "code",
   "execution_count": 4,
   "metadata": {},
   "outputs": [],
   "source": [
    "import os\n",
    "import re\n",
    "from dotenv import load_dotenv\n",
    "from tqdm.notebook import tqdm\n",
    "from collections import defaultdict as dd"
   ]
  },
  {
   "cell_type": "code",
   "execution_count": 5,
   "metadata": {},
   "outputs": [],
   "source": [
    "load_dotenv()\n",
    "\n",
    "DATA_DIR = os.getenv('DATA_DIR')\n",
    "files = os.listdir(DATA_DIR)"
   ]
  },
  {
   "cell_type": "markdown",
   "metadata": {},
   "source": [
    "### Read Texts"
   ]
  },
  {
   "cell_type": "code",
   "execution_count": 6,
   "metadata": {},
   "outputs": [],
   "source": [
    "keys = []\n",
    "texts = dd(list)\n",
    "authors = dd(list)"
   ]
  },
  {
   "cell_type": "code",
   "execution_count": 7,
   "metadata": {},
   "outputs": [],
   "source": [
    "def read_text(file):\n",
    "    filepath = '{}/{}'.format(DATA_DIR, file)\n",
    "    text = re.sub('<[^<]+>', \"\", open(filepath, encoding=\"utf8\").read())\n",
    "    return re.sub('\\n', \"\", text)"
   ]
  },
  {
   "cell_type": "code",
   "execution_count": 8,
   "metadata": {},
   "outputs": [
    {
     "data": {
      "application/vnd.jupyter.widget-view+json": {
       "model_id": "fa68fbc567944e938df4bd0a825c7fd6",
       "version_major": 2,
       "version_minor": 0
      },
      "text/plain": [
       "  0%|          | 0/821 [00:00<?, ?it/s]"
      ]
     },
     "metadata": {},
     "output_type": "display_data"
    }
   ],
   "source": [
    "for file in tqdm(files):\n",
    "    key = os.path.splitext(file)[0]\n",
    "    author = key.split('.')[0]\n",
    "    authors[author].append(key)\n",
    "    text = read_text(file)\n",
    "    texts[key] = text"
   ]
  },
  {
   "cell_type": "markdown",
   "metadata": {},
   "source": [
    "### Annotate Docs"
   ]
  },
  {
   "cell_type": "code",
   "execution_count": 9,
   "metadata": {},
   "outputs": [
    {
     "data": {
      "application/vnd.jupyter.widget-view+json": {
       "model_id": "8c94597127134252aff29fee09a9fdf1",
       "version_major": 2,
       "version_minor": 0
      },
      "text/plain": [
       "  0%|          | 0/1 [00:00<?, ?it/s]"
      ]
     },
     "metadata": {},
     "output_type": "display_data"
    },
    {
     "name": "stderr",
     "output_type": "stream",
     "text": [
      "/home/zach/anaconda3/envs/python38/lib/python3.8/site-packages/torch/cuda/__init__.py:52: UserWarning: CUDA initialization: Found no NVIDIA driver on your system. Please check that you have an NVIDIA GPU and installed a driver from http://www.nvidia.com/Download/index.aspx (Triggered internally at  /pytorch/c10/cuda/CUDAFunctions.cpp:100.)\n",
      "  return torch._C._cuda_getDeviceCount() > 0\n"
     ]
    }
   ],
   "source": [
    "docs = dd(list)\n",
    "for key in tqdm(paul[:1]):\n",
    "    docs[key] = cltk_nlp.analyze(text=texts[key])"
   ]
  },
  {
   "cell_type": "markdown",
   "metadata": {},
   "source": [
    "### Normalize Doc Features"
   ]
  },
  {
   "cell_type": "code",
   "execution_count": 11,
   "metadata": {},
   "outputs": [],
   "source": [
    "def get_features(doc):\n",
    "    features = {\n",
    "        'word_freq': dd(int),\n",
    "        'lemma_freq': dd(int),\n",
    "        'governor_freq': dd(int),\n",
    "        'upos_freq': dd(int),\n",
    "        'pos_freq': dd(int),\n",
    "        'xpos_freq': dd(int),\n",
    "        'dependancy_freq': dd(int),\n",
    "    }\n",
    "    \n",
    "    for word in doc:\n",
    "        features['word_freq'][word.string] += 1\n",
    "        features['lemma_freq'][word.lemma] += 1\n",
    "        features['governor_freq'][word.governor] += 1\n",
    "        features['upos_freq'][word.upos] += 1\n",
    "        features['pos_freq'][str(word.pos)] += 1\n",
    "        features['xpos_freq'][word.xpos] += 1\n",
    "        features['dependancy_freq'][word.dependency_relation] += 1\n",
    "    \n",
    "    return features"
   ]
  },
  {
   "cell_type": "markdown",
   "metadata": {},
   "source": [
    "### Extract Features From Docs"
   ]
  },
  {
   "cell_type": "code",
   "execution_count": 12,
   "metadata": {},
   "outputs": [],
   "source": [
    "data = {}\n",
    "\n",
    "for doc in docs:\n",
    "    features = get_features(docs[doc])\n",
    "    for key in features:\n",
    "        features[key] = sorted(features[key].items(), key=lambda item: item[1])\n",
    "    data[doc] = features"
   ]
  },
  {
   "cell_type": "markdown",
   "metadata": {},
   "source": [
    "### Suffix Tree"
   ]
  },
  {
   "cell_type": "code",
   "execution_count": 88,
   "metadata": {},
   "outputs": [],
   "source": [
    "from pystlm.stlm import STLM\n",
    "from pystlm.suffixtree import SuffixTree\n",
    "from pystlm.sequence import Sequence\n",
    "\n",
    "trie = SuffixTree()\n",
    "\n",
    "doc = docs[paul[0]]\n",
    "\n",
    "tags = []\n",
    "\n",
    "for word in doc:\n",
    "    tags.append(word.upos)\n",
    "    trie.add(word.upos)\n",
    "\n",
    "trie.update_all_counts()\n",
    "stlm = STLM(trie)\n",
    "seq = Sequence()\n",
    "\n",
    "for t in list(vocabulary):\n",
    "    seq.push_back(t)"
   ]
  },
  {
   "cell_type": "code",
   "execution_count": 89,
   "metadata": {
    "scrolled": false
   },
   "outputs": [],
   "source": [
    "from collections import Counter\n",
    "\n",
    "sentences = doc.sentences\n",
    "sentence_tags = []\n",
    "\n",
    "start_counter = Counter()\n",
    "end_counter = Counter()\n",
    "\n",
    "for sent in sentences:\n",
    "    if len(sent) < 2: continue\n",
    "    pos_tags = []\n",
    "    for word in sent:\n",
    "        pos_tags.append(word.upos)\n",
    "    sentence_tags.append(pos_tags)\n",
    "    \n",
    "    start_counter[pos_tags[0]] += 1\n",
    "    end_counter[pos_tags[len(pos_tags)-1]] +=1"
   ]
  }
 ],
 "metadata": {
  "kernelspec": {
   "display_name": "Python 3",
   "language": "python",
   "name": "python3"
  },
  "language_info": {
   "codemirror_mode": {
    "name": "ipython",
    "version": 3
   },
   "file_extension": ".py",
   "mimetype": "text/x-python",
   "name": "python",
   "nbconvert_exporter": "python",
   "pygments_lexer": "ipython3",
   "version": "3.8.5"
  }
 },
 "nbformat": 4,
 "nbformat_minor": 2
}
